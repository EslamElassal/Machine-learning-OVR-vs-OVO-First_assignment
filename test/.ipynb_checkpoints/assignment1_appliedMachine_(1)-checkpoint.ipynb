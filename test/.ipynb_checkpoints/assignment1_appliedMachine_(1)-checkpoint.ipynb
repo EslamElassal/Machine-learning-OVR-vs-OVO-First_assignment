{
 "cells": [
  {
   "cell_type": "markdown",
   "id": "1e394bed",
   "metadata": {
    "id": "1e394bed"
   },
   "source": [
    "## <font color=\"broun\">Libraries and functions</font>"
   ]
  },
  {
   "cell_type": "markdown",
   "id": "73167a0e",
   "metadata": {
    "id": "73167a0e"
   },
   "source": [
    "### `import necessary libraries`"
   ]
  },
  {
   "cell_type": "code",
   "execution_count": null,
   "id": "2a3517c9",
   "metadata": {
    "id": "2a3517c9"
   },
   "outputs": [],
   "source": [
    "import numpy as np\n",
    "import pandas as pd\n",
    "import matplotlib.pyplot as plt\n",
    "%matplotlib inline\n",
    "from sklearn import svm \n",
    "from sklearn import metrics\n",
    "from sklearn.metrics import classification_report, ConfusionMatrixDisplay, accuracy_score, confusion_matrix\n",
    "from sklearn.datasets import make_classification, make_circles\n",
    "import seaborn as sns"
   ]
  },
  {
   "cell_type": "markdown",
   "id": "6f01264e",
   "metadata": {
    "id": "6f01264e"
   },
   "source": [
    "### `get the features and label from the dataset`"
   ]
  },
  {
   "cell_type": "code",
   "execution_count": null,
   "id": "cff5c449",
   "metadata": {
    "id": "cff5c449"
   },
   "outputs": [],
   "source": [
    "def load_traing_testing_sets(trainSet,testSet):\n",
    "    \"it take the names of training and testing sets and retrurn X_train , X_test , y_train ,y_test\"\n",
    "    training_dataset = pd.read_csv(trainSet)\n",
    "    print(type(training_dataset))\n",
    "    testing_dataset = pd.read_csv(testSet)\n",
    "\n",
    "    X_train = training_dataset.iloc[:,:5]\n",
    "    X_test =  testing_dataset.iloc[:,:5]\n",
    "    y_train = training_dataset.iloc[:,5]\n",
    "    y_test = testing_dataset.iloc[:,5]\n",
    "\n",
    "    return  X_train,y_train,X_test,y_test"
   ]
  },
  {
   "cell_type": "markdown",
   "id": "09f1ac3a",
   "metadata": {
    "id": "09f1ac3a"
   },
   "source": [
    "### `accuracy evaluation`"
   ]
  },
  {
   "cell_type": "code",
   "execution_count": null,
   "id": "9d22f224",
   "metadata": {
    "id": "9d22f224"
   },
   "outputs": [],
   "source": [
    "def getAccuracy(model, X_test, y_test):\n",
    "    return model.score(X_test,y_test)*100"
   ]
  },
  {
   "cell_type": "markdown",
   "id": "413dae22",
   "metadata": {
    "id": "413dae22"
   },
   "source": [
    "### `get confusion matrix`"
   ]
  },
  {
   "cell_type": "code",
   "execution_count": null,
   "id": "19e9df55",
   "metadata": {
    "id": "19e9df55"
   },
   "outputs": [],
   "source": [
    "def getConfusionMatrix(model,X_test,y_test):\n",
    "    predictions = model.predict(X_test)\n",
    "    cm = confusion_matrix(y_test, predictions, labels=model.classes_)\n",
    "    print(cm)\n",
    "    disp = ConfusionMatrixDisplay(confusion_matrix=cm,display_labels=model.classes_)\n",
    "    disp.plot()\n",
    "    plt.show()"
   ]
  },
  {
   "cell_type": "markdown",
   "id": "039a2c0d",
   "metadata": {
    "id": "039a2c0d"
   },
   "source": [
    "### `plot decision boundery`"
   ]
  },
  {
   "cell_type": "code",
   "execution_count": null,
   "id": "e2745bbf",
   "metadata": {
    "id": "e2745bbf"
   },
   "outputs": [],
   "source": [
    "def plotRegions(model, X):\n",
    "    x_min, x_max = X[:, 0].min() - 1, X[:, 0].max() + 1\n",
    "    y_min, y_max = X[:, 1].min() - 1, X[:, 1].max() + 1\n",
    "    XX, YY = np.meshgrid(np.arange(x_min, x_max, 0.01), np.arange(y_min, y_max, 0.01))\n",
    "\n",
    "    z = model.predict(np.c_[XX.ravel(), YY.ravel()])\n",
    "    ZZ = z.reshape(XX.shape)\n",
    "    plt.contourf(XX, YY, ZZ, alpha=0.2)"
   ]
  },
  {
   "cell_type": "markdown",
   "id": "e9627c8d",
   "metadata": {
    "id": "e9627c8d"
   },
   "source": [
    "### `ploting the data`"
   ]
  },
  {
   "cell_type": "code",
   "execution_count": null,
   "id": "9b1b4aca",
   "metadata": {
    "id": "9b1b4aca"
   },
   "outputs": [],
   "source": [
    "def plotData(features, labels, cls, class_names):\n",
    "    colors = ['r', 'b', 'g','y','']\n",
    "    markers = ['o', '*', '+','x']\n",
    "    for class_index in range(len(cls)):\n",
    "        plt.scatter(features[labels == cls[class_index],0], features[labels == cls[class_index],1], c=colors[class_index], marker=markers[class_index], label=class_names[cls[class_index]])\n",
    "    Title = \"Dataset with {n} classes\".format(n=int(len(cls)))\n",
    "    plt.title(Title)\n",
    "#     plt.xlabel('Petal Length (cm)')\n",
    "#     plt.ylabel('Petal width (cm)')\n",
    "    plt.legend()"
   ]
  },
  {
   "cell_type": "code",
   "execution_count": null,
   "id": "b16a0f9a",
   "metadata": {
    "id": "b16a0f9a"
   },
   "outputs": [],
   "source": [
    "def plotDataOVO(features, labels, cls, class_names):\n",
    "    colors = ['r', 'b','']\n",
    "    markers = ['o', 'x']\n",
    "    for class_index in range(len(cls)):\n",
    "        plt.scatter(features[labels == cls[class_index],0], features[labels == cls[class_index],1], c=colors[class_index], marker=markers[class_index], label=class_names[cls[class_index]])\n",
    "    Title = \"Dataset with {n} classes\".format(n=int(len(cls)))\n",
    "    plt.title(Title)\n",
    "#     plt.xlabel('Petal Length (cm)')\n",
    "#     plt.ylabel('Petal width (cm)')\n",
    "    plt.legend()"
   ]
  },
  {
   "cell_type": "markdown",
   "id": "86e8b400",
   "metadata": {
    "id": "86e8b400"
   },
   "source": [
    "### `Get Class Names`\n"
   ]
  },
  {
   "cell_type": "code",
   "execution_count": null,
   "id": "140230ae",
   "metadata": {
    "id": "140230ae"
   },
   "outputs": [],
   "source": [
    "def getClassNames(target_names):\n",
    "    cls_all = {}\n",
    "    for i, label in enumerate(target_names):\n",
    "        cls_all[i] = label\n",
    "    return cls_all"
   ]
  },
  {
   "cell_type": "code",
   "execution_count": null,
   "id": "f4c76bdd",
   "metadata": {
    "id": "f4c76bdd"
   },
   "outputs": [],
   "source": [
    "def plotDataAndBoundries(X,y,Cls,classNames,model):\n",
    "    plotData(X, y,Cls,classNames)\n",
    "    plotRegions(model,X)\n",
    "    plt.legend(loc=\"upper left\")\n",
    "    plt.show()"
   ]
  },
  {
   "cell_type": "code",
   "execution_count": null,
   "id": "7e46e8cb",
   "metadata": {
    "id": "7e46e8cb"
   },
   "outputs": [],
   "source": [
    "def plotDataAndBoundriesOVO(X,y,Cls,classNames,model):\n",
    "    plotDataOVO(X, y,Cls,classNames)\n",
    "    plotRegions(model,X)\n",
    "    plt.legend(loc=\"upper left\")\n",
    "    plt.show()"
   ]
  },
  {
   "cell_type": "code",
   "execution_count": null,
   "id": "722ece15",
   "metadata": {
    "id": "722ece15"
   },
   "outputs": [],
   "source": [
    "#Prepare dataset for OVO Classifier\n",
    "def prepareDataset(X, y, cls_remove=None):\n",
    "    cls = [0, 1, 2, 3]\n",
    "    if cls_remove is not None:\n",
    "        labels = []\n",
    "        features = []\n",
    "        for index, (feat, label) in enumerate(zip(X, y)):\n",
    "            if y[index] not in cls_remove:\n",
    "                features.append(feat) \n",
    "                labels.append(label)\n",
    "        cls.remove(cls_remove[0])\n",
    "        cls.remove(cls_remove[1])\n",
    "    else:\n",
    "        features = X\n",
    "        labels = y\n",
    "    return np.array(features),np.array(labels), cls\n",
    "\n",
    "\n",
    " "
   ]
  },
  {
   "cell_type": "markdown",
   "id": "e9e10bde",
   "metadata": {
    "id": "e9e10bde"
   },
   "source": [
    "--------------------------------------------------------------------------------------------------------------------------------"
   ]
  },
  {
   "cell_type": "markdown",
   "id": "8d2b64f8",
   "metadata": {
    "id": "8d2b64f8"
   },
   "source": [
    "## `problem 1`"
   ]
  },
  {
   "cell_type": "markdown",
   "id": "4e48845d",
   "metadata": {
    "id": "4e48845d"
   },
   "source": [
    "### <font color=\"broun\">1.1 Load the DUMD dataset and convert categorical class labels to numerical values by using the LabelEncoder</font>"
   ]
  },
  {
   "cell_type": "code",
   "execution_count": null,
   "id": "a92c48fb",
   "metadata": {
    "colab": {
     "base_uri": "https://localhost:8080/"
    },
    "id": "a92c48fb",
    "outputId": "9ffd54bb-78cd-4bbd-bedc-ebbc07eb18e9"
   },
   "outputs": [],
   "source": [
    "#'DUMD_train.csv'\n",
    "link_train = \"https://drive.google.com/uc?id=1pbnWqF-Mo61q2Kpp1CF_rV-58_9mmOVs\"\n",
    "# 'DUMD_test.csv'\n",
    "link_test = \"https://drive.google.com/uc?id=1JAut9ED1IKO95w1LKvCCOxMuERKqoKCW\"\n",
    "X_train,y_train,X_test,y_test=load_traing_testing_sets(DUMD_train.csv,DUMD_test.csv)"
   ]
  },
  {
   "cell_type": "code",
   "execution_count": null,
   "id": "faf7bfd4",
   "metadata": {
    "colab": {
     "base_uri": "https://localhost:8080/",
     "height": 424
    },
    "id": "faf7bfd4",
    "outputId": "40820d76-c7f7-486d-8316-424ab70e452f"
   },
   "outputs": [],
   "source": [
    "X_train"
   ]
  },
  {
   "cell_type": "markdown",
   "id": "0cefb6ef",
   "metadata": {
    "id": "0cefb6ef"
   },
   "source": [
    "### `encoding the categorical data`"
   ]
  },
  {
   "cell_type": "code",
   "execution_count": null,
   "id": "66ec6133",
   "metadata": {
    "colab": {
     "base_uri": "https://localhost:8080/"
    },
    "id": "66ec6133",
    "outputId": "ca4a2ced-2e23-49e6-c36b-efb980e957a4"
   },
   "outputs": [],
   "source": [
    "from sklearn.preprocessing import LabelEncoder\n",
    "labelencoder_y = LabelEncoder()\n",
    "\n",
    "\n",
    "# to display the target values before encoding \n",
    "new_df = pd.DataFrame(y_train)\n",
    "Unique_values_of_UNS=new_df.drop_duplicates()\n",
    "print(Unique_values_of_UNS)\n",
    "\n",
    "y_train = labelencoder_y.fit_transform(y_train)\n",
    "y_test = labelencoder_y.fit_transform(y_test)\n",
    " \n",
    "# to display the target values after encoding \n",
    "new_df = pd.DataFrame(y_train)\n",
    "Unique_values_of_UNS=new_df.drop_duplicates()\n",
    "print(Unique_values_of_UNS)"
   ]
  },
  {
   "cell_type": "markdown",
   "id": "6a8f98fd",
   "metadata": {
    "id": "6a8f98fd"
   },
   "source": [
    "### <font color=\"broun\">1.2 Choose two features from DUMD dataset to apply SVM and Perceptron algorithms for classification</font>"
   ]
  },
  {
   "cell_type": "markdown",
   "id": "0286bc50",
   "metadata": {
    "id": "0286bc50"
   },
   "source": [
    "### `feature selection`"
   ]
  },
  {
   "cell_type": "markdown",
   "id": "80385e42",
   "metadata": {
    "id": "80385e42"
   },
   "source": [
    "### `show features impoertance (features -> target)`"
   ]
  },
  {
   "cell_type": "code",
   "execution_count": null,
   "id": "b7a7c050",
   "metadata": {
    "colab": {
     "base_uri": "https://localhost:8080/",
     "height": 0
    },
    "id": "b7a7c050",
    "outputId": "70a5095a-4bc2-4d70-e1ec-dc6539fc7be0"
   },
   "outputs": [],
   "source": [
    "from sklearn.feature_selection import mutual_info_classif\n",
    "\n",
    "importances = mutual_info_classif(X_train,y_train)\n",
    "feat_importances = pd.Series(importances, X_train.columns[0:len(X_train.columns)])\n",
    "feat_importances.plot(kind ='barh', color = 'teal')\n",
    "plt.show()"
   ]
  },
  {
   "cell_type": "markdown",
   "id": "5cc49dca",
   "metadata": {
    "id": "5cc49dca"
   },
   "source": [
    "-------------------------------------------------------------------------------------------------------------------------------"
   ]
  },
  {
   "cell_type": "markdown",
   "id": "6d8e7378",
   "metadata": {
    "id": "6d8e7378"
   },
   "source": [
    "### <font color=\"green\">Correlation between features</font>"
   ]
  },
  {
   "cell_type": "code",
   "execution_count": null,
   "id": "9d5e5440",
   "metadata": {
    "colab": {
     "base_uri": "https://localhost:8080/",
     "height": 0
    },
    "id": "9d5e5440",
    "outputId": "cda17749-f43e-48b3-e5da-2cb77fa996c0"
   },
   "outputs": [],
   "source": [
    "# here the code of feature selection\n",
    "\n",
    "correlation_matrix = X_train.corr()\n",
    "# print('correlation_matrix',correlation_matrix) \n",
    "\n",
    "#Using Pearson Correlation\n",
    "plt.figure(figsize=(12,10))\n",
    "sns.heatmap(correlation_matrix, annot=True, cmap=plt.cm.CMRmap_r)\n",
    "plt.show()\n",
    "\n",
    "\n",
    "# with the following function we can select highly correlated features\n",
    "# it will remove the first feature that is correlated with anything other feature\n",
    "\n",
    "def correlation(dataset, threshold):\n",
    "    col_corr = set()  # Set of all the names of correlated columns\n",
    "    corr_matrix = dataset.corr()\n",
    "    for i in range(len(corr_matrix.columns)):\n",
    "        for j in range(i):\n",
    "            if abs(corr_matrix.iloc[i, j]) > threshold: # we are interested in absolute coeff value\n",
    "                colname = corr_matrix.columns[i]  # getting the name of column\n",
    "                col_corr.add(colname)\n",
    "    return col_corr\n",
    "\n",
    "corr_features = correlation(X_train, 0.1)\n",
    "print(len(set(corr_features)))\n",
    "print(corr_features)\n"
   ]
  },
  {
   "cell_type": "markdown",
   "id": "8f3e5309",
   "metadata": {
    "id": "8f3e5309"
   },
   "source": [
    "-------------------------------------------------------------------------------------------------------------------------"
   ]
  },
  {
   "cell_type": "code",
   "execution_count": null,
   "id": "c23bc0e5",
   "metadata": {
    "id": "c23bc0e5"
   },
   "outputs": [],
   "source": [
    "# the features that will be droped deppending on evaluationg the importance and the correlations will be : \n",
    "{'SCG', 'STR', 'LPR'}\n",
    "\n",
    "dropedFeatures ={'SCG', 'STR', 'LPR'}\n",
    "\n",
    "#drop low correlation features from X_train and X_test\n",
    "X_train.drop(dropedFeatures,axis=1,inplace=True)\n",
    "X_test.drop(dropedFeatures,axis=1,inplace=True)\n",
    "y_train_ovo=y_train\n",
    "y_test_ovo=y_test"
   ]
  },
  {
   "cell_type": "markdown",
   "id": "2ad7c700",
   "metadata": {
    "id": "2ad7c700"
   },
   "source": [
    "`feture selection explination` :  \n",
    "1- we took the correlation between the independant features and selected the most two correlated features and the result was \n",
    "{PEG, STG}.\n",
    "\n",
    "2- we took the correlation between the independant features and the dependant one and selected the most two correlated features and the result was  {SCG, STG}."
   ]
  },
  {
   "cell_type": "markdown",
   "id": "ca5d0b77",
   "metadata": {
    "id": "ca5d0b77"
   },
   "source": [
    "### <font color=\"broun\">1.3 Classify testing data by using SVM and Perceptron classifiers. Provide accuracies, confusion matrix and decision boundaries for both classifier.</font>"
   ]
  },
  {
   "cell_type": "markdown",
   "id": "828d1593",
   "metadata": {
    "id": "828d1593"
   },
   "source": [
    "### `SVM OVO`"
   ]
  },
  {
   "cell_type": "code",
   "execution_count": null,
   "id": "ccf789ce",
   "metadata": {
    "colab": {
     "base_uri": "https://localhost:8080/"
    },
    "id": "ccf789ce",
    "outputId": "e99ddf29-3a3a-46f0-bbdd-6a8ffac19b71"
   },
   "outputs": [],
   "source": [
    "model_OVO = svm.SVC(kernel='rbf', decision_function_shape='ovo', C=200)\n",
    "model_OVO.fit(X_train, y_train)\n",
    "print('Accuracy of model: {:.2f}%'.format(getAccuracy(model_OVO, X_test,y_test))) "
   ]
  },
  {
   "cell_type": "code",
   "execution_count": null,
   "id": "fa81aed4",
   "metadata": {
    "colab": {
     "base_uri": "https://localhost:8080/",
     "height": 0
    },
    "id": "fa81aed4",
    "outputId": "c1cbc66e-b866-4ac9-ca10-a068471e2906"
   },
   "outputs": [],
   "source": [
    "getConfusionMatrix(model_OVO,X_test,y_test)"
   ]
  },
  {
   "cell_type": "code",
   "execution_count": null,
   "id": "169b0b92",
   "metadata": {
    "colab": {
     "base_uri": "https://localhost:8080/",
     "height": 0
    },
    "id": "169b0b92",
    "outputId": "955fbbb7-8986-4d9f-f338-e4e5c456ef1d"
   },
   "outputs": [],
   "source": [
    "print(\"Training\")\n",
    "plotDataAndBoundries(X_train.values,y_train,[0,1,2,3],{0:'High',1:'Low',2:'Medium',3:'Very Low'},model_OVO)\n",
    "\n",
    "print(\"Testing\")\n",
    "plotDataAndBoundries(X_test.values,y_test,[0,1,2,3],{0:'High',1:'Low',2:'Medium',3:'Very Low'},model_OVO)"
   ]
  },
  {
   "cell_type": "code",
   "execution_count": null,
   "id": "2af8ff13",
   "metadata": {
    "id": "2af8ff13"
   },
   "outputs": [],
   "source": []
  },
  {
   "cell_type": "markdown",
   "id": "2c2c0862",
   "metadata": {
    "id": "2c2c0862"
   },
   "source": [
    "### `SVM OVR`"
   ]
  },
  {
   "cell_type": "code",
   "execution_count": null,
   "id": "0ddc52f9",
   "metadata": {
    "colab": {
     "base_uri": "https://localhost:8080/"
    },
    "id": "0ddc52f9",
    "outputId": "f2651f57-2ebc-4c26-ca88-04ebd492a078"
   },
   "outputs": [],
   "source": [
    "model = svm.SVC(kernel='rbf', decision_function_shape='ovr', C=200)\n",
    "model.fit(X_train, y_train)\n",
    "print('Accuracy of model: {:.2f}%'.format(getAccuracy(model, X_test,y_test))) "
   ]
  },
  {
   "cell_type": "code",
   "execution_count": null,
   "id": "db03a53f",
   "metadata": {
    "colab": {
     "base_uri": "https://localhost:8080/",
     "height": 0
    },
    "id": "db03a53f",
    "outputId": "1248c3e2-7598-4c08-d4fb-94c001b56568"
   },
   "outputs": [],
   "source": [
    "getConfusionMatrix(model,X_test,y_test)"
   ]
  },
  {
   "cell_type": "code",
   "execution_count": null,
   "id": "efccff2d",
   "metadata": {
    "colab": {
     "base_uri": "https://localhost:8080/",
     "height": 0
    },
    "id": "efccff2d",
    "outputId": "d25377df-1dba-4b82-a559-c99eebbb954e",
    "scrolled": true
   },
   "outputs": [],
   "source": [
    "print(\"Training\")\n",
    "plotDataAndBoundries(X_train.values,y_train,[0,1,2,3],{0:'High',1:'Low',2:'Medium',3:'Very Low'},model)\n",
    "\n",
    "print(\"Testing\")\n",
    "plotDataAndBoundries(X_test.values,y_test,[0,1,2,3],{0:'High',1:'Low',2:'Medium',3:'Very Low'},model)"
   ]
  },
  {
   "cell_type": "markdown",
   "id": "f0ff9904",
   "metadata": {
    "id": "f0ff9904"
   },
   "source": [
    "### `perceptron`"
   ]
  },
  {
   "cell_type": "code",
   "execution_count": null,
   "id": "2db50fb8",
   "metadata": {
    "colab": {
     "base_uri": "https://localhost:8080/"
    },
    "id": "2db50fb8",
    "outputId": "e501528f-a0ca-4cc3-8614-ab2d385cbff2"
   },
   "outputs": [],
   "source": [
    "from sklearn.linear_model import Perceptron\n",
    "clf = Perceptron(tol=1e-3, random_state=0)\n",
    "clf.fit(X_train, y_train)\n",
    "print('Accuracy of model: {:.2f}%'.format(getAccuracy(clf, X_test,y_test))) "
   ]
  },
  {
   "cell_type": "code",
   "execution_count": null,
   "id": "9c986efc",
   "metadata": {
    "colab": {
     "base_uri": "https://localhost:8080/",
     "height": 0
    },
    "id": "9c986efc",
    "outputId": "f968acc9-e285-4b95-9f8e-27549950c1b6"
   },
   "outputs": [],
   "source": [
    "getConfusionMatrix(clf,X_test,y_test)"
   ]
  },
  {
   "cell_type": "code",
   "execution_count": null,
   "id": "b9a6e762",
   "metadata": {
    "colab": {
     "base_uri": "https://localhost:8080/",
     "height": 0
    },
    "id": "b9a6e762",
    "outputId": "4e529b08-7d2b-4750-b9f4-cf02317bcb6d"
   },
   "outputs": [],
   "source": [
    "print(\"Training\")\n",
    "plotDataAndBoundries(X_train.values,y_train,[0,1,2,3],{0:'High',1:'Low',2:'Medium',3:'Very Low'},clf)\n",
    "\n",
    "print(\"Testing\")\n",
    "plotDataAndBoundries(X_test.values,y_test,[0,1,2,3],{0:'High',1:'Low',2:'Medium',3:'Very Low'},clf)"
   ]
  },
  {
   "cell_type": "markdown",
   "id": "3876f6a7",
   "metadata": {
    "id": "3876f6a7"
   },
   "source": [
    "----------------------------------------------------------------------------------------------------------------------------------"
   ]
  },
  {
   "cell_type": "markdown",
   "id": "f97e9c30",
   "metadata": {
    "id": "f97e9c30"
   },
   "source": [
    "## `problem 2`"
   ]
  },
  {
   "cell_type": "markdown",
   "id": "dacf4fce",
   "metadata": {
    "id": "dacf4fce"
   },
   "source": [
    "### `Build OvR-SVM, test on DUMD testing dataset with obtained features from Problem 1.`"
   ]
  },
  {
   "cell_type": "markdown",
   "id": "b5d61481",
   "metadata": {
    "id": "b5d61481"
   },
   "source": [
    "### <font color=\"broun\">2.1.1 Obtain the binarized labels (OvR)</font>"
   ]
  },
  {
   "cell_type": "code",
   "execution_count": null,
   "id": "171d9552",
   "metadata": {
    "id": "171d9552"
   },
   "outputs": [],
   "source": [
    "from sklearn.preprocessing import MultiLabelBinarizer"
   ]
  },
  {
   "cell_type": "code",
   "execution_count": null,
   "id": "5839b91e",
   "metadata": {
    "id": "5839b91e"
   },
   "outputs": [],
   "source": [
    "y_train_before_binarizing = y_train.copy()\n",
    "y_test_before_binarizing = y_test.copy()\n",
    "mlb = MultiLabelBinarizer()\n",
    "y_train = mlb.fit_transform(y_train.reshape((-1,1)))\n",
    "y_test = mlb.fit_transform(y_test.reshape((-1,1)))\n",
    "  \n",
    "\n",
    "\n",
    "# print(f\"y_train after encoding : {y_train}\")\n",
    "# print(f\"y_test after encoding : {y_test}\")"
   ]
  },
  {
   "cell_type": "code",
   "execution_count": null,
   "id": "f1efdb14",
   "metadata": {
    "id": "f1efdb14"
   },
   "outputs": [],
   "source": [
    "# High 0\n",
    "# Low 1 \n",
    "# Medium 2\n",
    "# Very Low  3\n",
    " \n",
    "\n"
   ]
  },
  {
   "cell_type": "code",
   "execution_count": null,
   "id": "0fc5a9dc",
   "metadata": {
    "id": "0fc5a9dc"
   },
   "outputs": [],
   "source": [
    "# for training \n",
    "y1 = y_train[:,0]\n",
    "y2 = y_train[:,1]\n",
    "y3 = y_train[:,2]\n",
    "y4 = y_train[:,3]\n",
    "\n",
    "# for testing \n",
    "yT1 = y_test[:,0]\n",
    "yT2 = y_test[:,1]\n",
    "yT3 = y_test[:,2]\n",
    "yT4 = y_test[:,3]"
   ]
  },
  {
   "cell_type": "markdown",
   "id": "7bcde69e",
   "metadata": {
    "id": "7bcde69e"
   },
   "source": [
    "### <font color=\"broun\">2.1.2 Obtain the SVM’s accuracy</font>"
   ]
  },
  {
   "cell_type": "markdown",
   "id": "39bf8adc",
   "metadata": {
    "id": "39bf8adc"
   },
   "source": [
    "### <font color=\"broun\">2.1.3 Plot SVM’s decision boundary</font>"
   ]
  },
  {
   "cell_type": "markdown",
   "id": "94cde7d2",
   "metadata": {
    "id": "94cde7d2"
   },
   "source": [
    "### <font color=\"broun\">2.1.4 Make comments on model’s performance on each binary classification problem.</font>"
   ]
  },
  {
   "cell_type": "code",
   "execution_count": null,
   "id": "11fd2889",
   "metadata": {
    "id": "11fd2889"
   },
   "outputs": [],
   "source": [
    "def handMadeOVA(features,Label,x_test,y_test):\n",
    "    \"it returns the probability of the class\"\n",
    "    oVoClf = svm.SVC(kernel='rbf', probability=True)\n",
    "    oVoClf.fit(features, Label)\n",
    "    print('Accuracy of the classifier is : {:.2f}%'.format(getAccuracy(oVoClf, x_test,y_test)))\n",
    "    getConfusionMatrix(oVoClf,x_test,y_test)\n",
    "    y_pred = oVoClf.predict_proba(x_test)[:,1].reshape(-1,1)\n",
    "    \n",
    "    return y_pred ,oVoClf "
   ]
  },
  {
   "cell_type": "code",
   "execution_count": null,
   "id": "9bbf8343",
   "metadata": {
    "colab": {
     "base_uri": "https://localhost:8080/",
     "height": 331
    },
    "id": "9bbf8343",
    "outputId": "689ac10e-9b13-467e-d12a-b3912f66afd2"
   },
   "outputs": [],
   "source": [
    "# 1st classifier \n",
    "y1_pred , handMadeModel1 =handMadeOVA(X_train,y1,X_test,yT1) "
   ]
  },
  {
   "cell_type": "code",
   "execution_count": null,
   "id": "4740f771",
   "metadata": {
    "colab": {
     "base_uri": "https://localhost:8080/",
     "height": 614
    },
    "id": "4740f771",
    "outputId": "a30a69da-8db9-44b1-fdad-e3630786a996"
   },
   "outputs": [],
   "source": [
    "plotDataAndBoundries(X_test.values,yT1,[0,1],{0:'ALL', 1:'High'},handMadeModel1)\n",
    "plotDataAndBoundries(X_train.values,y1,[0,1],{0:'ALL', 1:'High'},handMadeModel1)\n"
   ]
  },
  {
   "cell_type": "code",
   "execution_count": null,
   "id": "1a6231c4",
   "metadata": {
    "colab": {
     "base_uri": "https://localhost:8080/",
     "height": 331
    },
    "id": "1a6231c4",
    "outputId": "9392388c-b98e-4712-f5d9-4c926887d3e2"
   },
   "outputs": [],
   "source": [
    "# 2nd classifier \n",
    "y2_pred, handMadeModel2 =handMadeOVA(X_train,y2,X_test,yT2) "
   ]
  },
  {
   "cell_type": "code",
   "execution_count": null,
   "id": "ce327fd7",
   "metadata": {
    "colab": {
     "base_uri": "https://localhost:8080/",
     "height": 614
    },
    "id": "ce327fd7",
    "outputId": "b852aefd-9019-48b3-a06c-2944faef175f"
   },
   "outputs": [],
   "source": [
    " \n",
    "plotDataAndBoundries(X_test.values,yT2,[0,1],{0:'ALL', 1:'Low'},handMadeModel2)\n",
    "plotDataAndBoundries(X_train.values,y2,[0,1],{0:'ALL', 1:'Low'},handMadeModel2)\n",
    "\n"
   ]
  },
  {
   "cell_type": "code",
   "execution_count": null,
   "id": "d287bd0b",
   "metadata": {
    "colab": {
     "base_uri": "https://localhost:8080/",
     "height": 331
    },
    "id": "d287bd0b",
    "outputId": "63a2b950-c9a0-4871-b37d-9731f87f8141"
   },
   "outputs": [],
   "source": [
    "# 3rd classifier \n",
    "y3_pred, handMadeModel3 =handMadeOVA(X_train,y3,X_test,yT3)"
   ]
  },
  {
   "cell_type": "code",
   "execution_count": null,
   "id": "2e5f1b7c",
   "metadata": {
    "colab": {
     "base_uri": "https://localhost:8080/",
     "height": 614
    },
    "id": "2e5f1b7c",
    "outputId": "ad5541cc-e5c3-415e-a319-736c4a70e198"
   },
   "outputs": [],
   "source": [
    " \n",
    "plotDataAndBoundries(X_test.values,yT3,[0,1],{0:'ALL', 1:'Medium'},handMadeModel3)\n",
    "plotDataAndBoundries(X_train.values,y3,[0,1],{0:'ALL', 1:'Medium'},handMadeModel3)\n"
   ]
  },
  {
   "cell_type": "code",
   "execution_count": null,
   "id": "8d05254f",
   "metadata": {
    "colab": {
     "base_uri": "https://localhost:8080/",
     "height": 331
    },
    "id": "8d05254f",
    "outputId": "9fdb08e2-67aa-4ed9-c58c-82c7d6130bc2"
   },
   "outputs": [],
   "source": [
    "# 4th classifier \n",
    "y4_pred, handMadeModel4 =handMadeOVA(X_train,y4,X_test,yT4) "
   ]
  },
  {
   "cell_type": "code",
   "execution_count": null,
   "id": "3590f682",
   "metadata": {
    "colab": {
     "base_uri": "https://localhost:8080/",
     "height": 614
    },
    "id": "3590f682",
    "outputId": "1b8ab1f5-480b-44fd-b40d-cf2a59a23f44"
   },
   "outputs": [],
   "source": [
    " \n",
    "plotDataAndBoundries(X_test.values,yT4,[0,1],{0:'ALL', 1:'Very Low'},handMadeModel4)\n",
    "plotDataAndBoundries(X_train.values,y4,[0,1],{0:'ALL', 1:'Very Low'},handMadeModel4)\n"
   ]
  },
  {
   "cell_type": "code",
   "execution_count": null,
   "id": "f9c78048",
   "metadata": {
    "colab": {
     "base_uri": "https://localhost:8080/"
    },
    "id": "f9c78048",
    "outputId": "e73d6fa8-82f7-4d06-dac5-674365e555c7"
   },
   "outputs": [],
   "source": [
    "y_all = np.hstack((y1_pred, y2_pred, y3_pred,y4_pred))\n",
    "y_all.shape"
   ]
  },
  {
   "cell_type": "markdown",
   "id": "8319175f",
   "metadata": {
    "id": "8319175f"
   },
   "source": [
    "--------------------------------------------------------------------------------------------------------------------------------"
   ]
  },
  {
   "cell_type": "markdown",
   "id": "cb3b88c5",
   "metadata": {
    "id": "cb3b88c5"
   },
   "source": [
    "### <font color=\"broun\"> 2.2 Use argmax to aggregate confidence scores and obtain the final predicted labels and obtain the performance (i.e., confusion matrix, accuracy, plotting correct and wrong prediction points) of OvR-SVM</font>"
   ]
  },
  {
   "cell_type": "code",
   "execution_count": null,
   "id": "0da6aa70",
   "metadata": {
    "colab": {
     "base_uri": "https://localhost:8080/"
    },
    "id": "0da6aa70",
    "outputId": "d7ed836d-f3c9-4dee-a49b-2451bd7f1c2d"
   },
   "outputs": [],
   "source": [
    "m = mlb.classes_[np.argmax(y_all, axis=1)]\n",
    "m.reshape((-1,1))"
   ]
  },
  {
   "cell_type": "code",
   "execution_count": null,
   "id": "O2B6YF6Ow-HG",
   "metadata": {
    "id": "O2B6YF6Ow-HG"
   },
   "outputs": [],
   "source": [
    "# metrics.accuracy_score(y_test_before_binarizing,m) # get true suggestion per total fact and suggestion \n",
    "#cm = confusion_matrix(y_test_before_binarizing, m)"
   ]
  },
  {
   "cell_type": "markdown",
   "id": "74e634c8",
   "metadata": {
    "id": "74e634c8"
   },
   "source": [
    "---------------------------------------------------------------------------------------------------------------------------------"
   ]
  },
  {
   "cell_type": "markdown",
   "id": "02b1bfb4",
   "metadata": {
    "id": "02b1bfb4"
   },
   "source": [
    "## `problem 3`"
   ]
  },
  {
   "cell_type": "markdown",
   "id": "4c5d040b",
   "metadata": {
    "id": "4c5d040b"
   },
   "source": [
    "### `Build OvO-SVM, test on DUMD testing dataset with obtained features from Problem 1.`"
   ]
  },
  {
   "cell_type": "code",
   "execution_count": null,
   "id": "74f47c30",
   "metadata": {
    "id": "74f47c30"
   },
   "outputs": [],
   "source": [
    "from sklearn.preprocessing import MultiLabelBinarizer"
   ]
  },
  {
   "cell_type": "code",
   "execution_count": null,
   "id": "8d947c12",
   "metadata": {
    "id": "8d947c12"
   },
   "outputs": [],
   "source": [
    "# High 0\n",
    "# Low 1 \n",
    "# Medium 2\n",
    "# Very Low  3\n",
    "\n",
    "\n"
   ]
  },
  {
   "cell_type": "code",
   "execution_count": null,
   "id": "f8c30c8f",
   "metadata": {
    "id": "f8c30c8f"
   },
   "outputs": [],
   "source": [
    "# # for training \n",
    "# y12 = y_train[:,:2]       #first vs second\n",
    "# y13 = y_train[:,[0,2]]    #first vs third\n",
    "# y14= y_train[:,[0,3]]    #first vs fourth\n",
    " \n",
    "# y23 = y_train[:,1:2]      #second vs third\n",
    "# y24 = y_train[:,[1,3]]    #second vs fourth\n",
    "\n",
    "# y34 = y_train[:,2:4]      #third vs fourth\n",
    " \n",
    "\n",
    "# # for testing \n",
    "# yT12 = y_test[:,:2]       #first vs second\n",
    "# yT13 = y_test[:,[0,2]]    #first vs third\n",
    "# yT14= y_test[:,[0,3]]    #first vs fourth\n",
    " \n",
    "# yT23 = y_test[:,1:2]      #second vs third\n",
    "# yT24 = y_test[:,[1,3]]    #second vs fourth\n",
    "\n",
    "# yT34 = y_test[:,2:4]      #third vs fourth\n"
   ]
  },
  {
   "cell_type": "markdown",
   "id": "9ab2f4dd",
   "metadata": {
    "id": "9ab2f4dd"
   },
   "source": [
    "### <font color=\"broun\">2.1.2 Obtain the SVM’s accuracy</font>"
   ]
  },
  {
   "cell_type": "markdown",
   "id": "3917d47e",
   "metadata": {
    "id": "3917d47e"
   },
   "source": [
    "### <font color=\"broun\">2.1.3 Plot SVM’s decision boundary</font>"
   ]
  },
  {
   "cell_type": "markdown",
   "id": "db2c7331",
   "metadata": {
    "id": "db2c7331"
   },
   "source": [
    "### <font color=\"broun\">2.1.4 Make comments on model’s performance on each binary classification problem.</font>"
   ]
  },
  {
   "cell_type": "code",
   "execution_count": null,
   "id": "12d08f4a",
   "metadata": {
    "id": "12d08f4a"
   },
   "outputs": [],
   "source": [
    "def handMadeOVO(features,Label,x_test,y_test):\n",
    "    \"it returns the probability of the class\"\n",
    "    oVoClf = svm.SVC(kernel='rbf', decision_function_shape='ovo',probability=True)\n",
    "    oVoClf.fit(features, Label)\n",
    "    print('Accuracy of the classifier is : {:.2f}%'.format(getAccuracy(oVoClf, x_test,y_test)))\n",
    "    getConfusionMatrix(oVoClf,x_test,y_test)\n",
    "    y_pred = oVoClf.predict_proba(features)[:,1].reshape(-1,1)\n",
    "    return y_pred ,oVoClf "
   ]
  },
  {
   "cell_type": "code",
   "execution_count": null,
   "id": "3ecf11a4",
   "metadata": {
    "id": "3ecf11a4"
   },
   "outputs": [],
   "source": [
    "#prepare test and train data for 1st classifier first class (High) vs second class (Low)\n",
    "xtrain,ytrain, cls_newtrian = prepareDataset( X_train.to_numpy(),y_train_ovo, cls_remove=[2,3])\n",
    "xtest,ytest, cls_newtest = prepareDataset( X_test.to_numpy(),y_test_ovo, cls_remove=[2,3])"
   ]
  },
  {
   "cell_type": "code",
   "execution_count": null,
   "id": "defd20c1",
   "metadata": {
    "colab": {
     "base_uri": "https://localhost:8080/",
     "height": 331
    },
    "id": "defd20c1",
    "outputId": "352ac34a-fb56-4f8e-bac0-aa1b46cee86b"
   },
   "outputs": [],
   "source": [
    "# 1st classifier first class (High) vs second class (Low)  \n",
    "ypred1 ,handMadeModelOVO1=handMadeOVO(xtrain,ytrain,xtest,ytest) "
   ]
  },
  {
   "cell_type": "code",
   "execution_count": null,
   "id": "2de0701a",
   "metadata": {
    "colab": {
     "base_uri": "https://localhost:8080/",
     "height": 580
    },
    "id": "2de0701a",
    "outputId": "2eb8b381-e0bd-4eab-bd0a-a94020ce5e4f"
   },
   "outputs": [],
   "source": [
    "#plot data and boundries for 1st classifier first class (High) vs second class (Low)  \n",
    "print('Training')\n",
    "plotDataAndBoundriesOVO(xtrain,ytrain,[0,1],{0:'High', 1:'Low'},handMadeModelOVO1)\n",
    "print('Testing')\n",
    "plotDataAndBoundriesOVO(xtest,ytest,[0,1],{0:'High', 1:'Low'},handMadeModelOVO1)\n"
   ]
  },
  {
   "cell_type": "code",
   "execution_count": null,
   "id": "01f50037",
   "metadata": {
    "id": "01f50037"
   },
   "outputs": [],
   "source": [
    "#prepare test and train data for 2nd classifier first class (High) vs third class (Medium)\n",
    "xtrain,ytrain, cls_newtrian = prepareDataset( X_train.to_numpy(),y_train_ovo, cls_remove=[1,3])\n",
    "xtest,ytest, cls_newtest = prepareDataset( X_test.to_numpy(),y_test_ovo, cls_remove=[1,3])"
   ]
  },
  {
   "cell_type": "code",
   "execution_count": null,
   "id": "72488c69",
   "metadata": {
    "colab": {
     "base_uri": "https://localhost:8080/",
     "height": 331
    },
    "id": "72488c69",
    "outputId": "74b04af1-f917-4fbb-c94f-aca1f4fbea30"
   },
   "outputs": [],
   "source": [
    "# 2nd classifier first class (High) vs third class (Medium)  \n",
    "ypred2 ,handMadeModelOVO2=handMadeOVO(xtrain,ytrain,xtest,ytest) "
   ]
  },
  {
   "cell_type": "code",
   "execution_count": null,
   "id": "f08e344d",
   "metadata": {
    "colab": {
     "base_uri": "https://localhost:8080/",
     "height": 580
    },
    "id": "f08e344d",
    "outputId": "ffc2bf99-d179-48b7-f04f-1f3ae54bc381"
   },
   "outputs": [],
   "source": [
    "#plot data and boundries for 2nd classifier first class (High) vs third class (Medium)\n",
    "print('Training')\n",
    "plotDataAndBoundriesOVO(xtrain,ytrain,[0,2],{0:'High', 2:'Medium'},handMadeModelOVO2)\n",
    "print('Testing')\n",
    "plotDataAndBoundriesOVO(xtest,ytest,[0,2],{0:'High', 2:'Medium'},handMadeModelOVO2)\n"
   ]
  },
  {
   "cell_type": "code",
   "execution_count": null,
   "id": "f8d09562",
   "metadata": {
    "id": "f8d09562"
   },
   "outputs": [],
   "source": [
    "#prepare test and train data for 3rd classifier first class (High) vs fourth class (Very Low)\n",
    "xtrain,ytrain, cls_newtrian = prepareDataset( X_train.to_numpy(),y_train_ovo, cls_remove=[1,2])\n",
    "xtest,ytest, cls_newtest = prepareDataset( X_test.to_numpy(),y_test_ovo, cls_remove=[1,2])"
   ]
  },
  {
   "cell_type": "code",
   "execution_count": null,
   "id": "190d2b8d",
   "metadata": {
    "colab": {
     "base_uri": "https://localhost:8080/",
     "height": 331
    },
    "id": "190d2b8d",
    "outputId": "4e04c9b9-2d15-4ed2-da28-9f2c33f93399"
   },
   "outputs": [],
   "source": [
    "# 3rd classifier first class (High) vs fourth class (Very Low)\n",
    "ypred3 ,handMadeModelOVO3=handMadeOVO(xtrain,ytrain,xtest,ytest) "
   ]
  },
  {
   "cell_type": "code",
   "execution_count": null,
   "id": "4d17a30c",
   "metadata": {
    "colab": {
     "base_uri": "https://localhost:8080/",
     "height": 580
    },
    "id": "4d17a30c",
    "outputId": "d3751dd1-ed23-4446-a022-a08c7690672b"
   },
   "outputs": [],
   "source": [
    "#plot data and boundries for 3rd classifier first class (High) vs fourth class (Very Low)  \n",
    "print('Training')\n",
    "plotDataAndBoundriesOVO(xtrain,ytrain,[0,3],{0:'High', 3:'Very Low'},handMadeModelOVO3)\n",
    "print('Testing')\n",
    "plotDataAndBoundriesOVO(xtest,ytest,[0,3],{0:'High', 3:'Very Low'},handMadeModelOVO3)\n"
   ]
  },
  {
   "cell_type": "code",
   "execution_count": null,
   "id": "cecf406b",
   "metadata": {
    "id": "cecf406b"
   },
   "outputs": [],
   "source": [
    "#prepare test and train data for 4th classifier second class (Low) vs third class (Medium)\n",
    "xtrain,ytrain, cls_newtrian = prepareDataset( X_train.to_numpy(),y_train_ovo, cls_remove=[0,3])\n",
    "xtest,ytest, cls_newtest = prepareDataset( X_test.to_numpy(),y_test_ovo, cls_remove=[0,3])"
   ]
  },
  {
   "cell_type": "code",
   "execution_count": null,
   "id": "2efb01ae",
   "metadata": {
    "colab": {
     "base_uri": "https://localhost:8080/",
     "height": 331
    },
    "id": "2efb01ae",
    "outputId": "60d88330-8d7c-4f3e-8fac-a629ecc9f4ae"
   },
   "outputs": [],
   "source": [
    "# 4th classifier second class (Low) vs third class (Medium) \n",
    "ypred4 ,handMadeModelOVO4=handMadeOVO(xtrain,ytrain,xtest,ytest) "
   ]
  },
  {
   "cell_type": "code",
   "execution_count": null,
   "id": "b60e9d29",
   "metadata": {
    "colab": {
     "base_uri": "https://localhost:8080/",
     "height": 580
    },
    "id": "b60e9d29",
    "outputId": "1aa91c9a-0a12-4454-c266-1e9abc0dc5a9"
   },
   "outputs": [],
   "source": [
    "#plot data and boundries for 4th classifier second class (Low) vs third class (Medium)\n",
    "print('Training')\n",
    "plotDataAndBoundriesOVO(xtrain,ytrain,[1,2],{1:'Low', 2:'Medium'},handMadeModelOVO4)\n",
    "print('Testing')\n",
    "plotDataAndBoundriesOVO(xtest,ytest,[1,2],{1:'Low', 2:'Medium'},handMadeModelOVO4)\n"
   ]
  },
  {
   "cell_type": "code",
   "execution_count": null,
   "id": "9abc2216",
   "metadata": {
    "id": "9abc2216"
   },
   "outputs": [],
   "source": [
    "#prepare test and train data for 5th classifier second class (Low) vs fourth class (Very Low)\n",
    "xtrain,ytrain, cls_newtrian = prepareDataset( X_train.to_numpy(),y_train_ovo, cls_remove=[0,2])\n",
    "xtest,ytest, cls_newtest = prepareDataset( X_test.to_numpy(),y_test_ovo, cls_remove=[0,2])"
   ]
  },
  {
   "cell_type": "code",
   "execution_count": null,
   "id": "75f316b0",
   "metadata": {
    "colab": {
     "base_uri": "https://localhost:8080/",
     "height": 331
    },
    "id": "75f316b0",
    "outputId": "c5c2b595-57fb-4339-b1ad-16d43aa18d71"
   },
   "outputs": [],
   "source": [
    "# 5th classifier second class (Low) vs fourth class (Very Low)\n",
    "ypred5 ,handMadeModelOVO5=handMadeOVO(xtrain,ytrain,xtest,ytest) "
   ]
  },
  {
   "cell_type": "code",
   "execution_count": null,
   "id": "5818761f",
   "metadata": {
    "colab": {
     "base_uri": "https://localhost:8080/",
     "height": 580
    },
    "id": "5818761f",
    "outputId": "ee24d078-8317-44a1-b7ad-e485d493ed5e"
   },
   "outputs": [],
   "source": [
    "#plot data and boundries for 5th classifier second class (Low) vs fourth class (Very Low)  \n",
    "print('Training')\n",
    "plotDataAndBoundriesOVO(xtrain,ytrain,[1,3],{1:'Low', 3:'Very Low'},handMadeModelOVO5)\n",
    "print('Testing')\n",
    "plotDataAndBoundriesOVO(xtest,ytest,[1,3],{1:'Low', 3:'Very Low'},handMadeModelOVO5)\n"
   ]
  },
  {
   "cell_type": "code",
   "execution_count": null,
   "id": "cbf4cd9e",
   "metadata": {
    "id": "cbf4cd9e"
   },
   "outputs": [],
   "source": [
    "#prepare test and train data for 6th classifier third class (Medium) vs fourth class (Very Low)\n",
    "xtrain,ytrain, cls_newtrian = prepareDataset( X_train.to_numpy(),y_train_ovo, cls_remove=[0,1])\n",
    "xtest,ytest, cls_newtest = prepareDataset( X_test.to_numpy(),y_test_ovo, cls_remove=[0,1])"
   ]
  },
  {
   "cell_type": "code",
   "execution_count": null,
   "id": "3e4505d1",
   "metadata": {
    "colab": {
     "base_uri": "https://localhost:8080/",
     "height": 331
    },
    "id": "3e4505d1",
    "outputId": "c7c4a42d-de19-473c-f216-6b399adef97b"
   },
   "outputs": [],
   "source": [
    "# 6th classifier third class (Medium) vs fourth class (Very Low)\n",
    "ypred6 ,handMadeModelOVO6=handMadeOVO(xtrain,ytrain,xtest,ytest) "
   ]
  },
  {
   "cell_type": "code",
   "execution_count": null,
   "id": "58c238ab",
   "metadata": {
    "colab": {
     "base_uri": "https://localhost:8080/",
     "height": 580
    },
    "id": "58c238ab",
    "outputId": "6a4c6d28-0ca9-4dd4-9a8b-9496e3f4508a"
   },
   "outputs": [],
   "source": [
    "#plot data and boundries for 6th classifier third class (Medium) vs fourth class (Very Low)\n",
    "print('Training')\n",
    "plotDataAndBoundriesOVO(xtrain,ytrain,[2,3],{2:'Medium', 3:'Very Low'},handMadeModelOVO6)\n",
    "print('Testing')\n",
    "plotDataAndBoundriesOVO(xtest,ytest,[2,3],{2:'Medium', 3:'Very Low'},handMadeModelOVO6)\n"
   ]
  },
  {
   "cell_type": "markdown",
   "id": "4894d165",
   "metadata": {
    "id": "4894d165"
   },
   "source": [
    "------------------------------------------------------------------------------------------------------------------------------------"
   ]
  },
  {
   "cell_type": "markdown",
   "id": "4bbc42b9",
   "metadata": {
    "id": "4bbc42b9"
   },
   "source": [
    "# `Conclusion`"
   ]
  },
  {
   "cell_type": "code",
   "execution_count": null,
   "id": "9cb9ab5d",
   "metadata": {
    "id": "9cb9ab5d"
   },
   "outputs": [],
   "source": []
  },
  {
   "cell_type": "markdown",
   "id": "6765206e",
   "metadata": {
    "id": "6765206e"
   },
   "source": [
    "## `References`"
   ]
  },
  {
   "cell_type": "markdown",
   "id": "d84acde3",
   "metadata": {
    "id": "d84acde3"
   },
   "source": [
    "1. Lecture notes \n",
    "2. Lab Notes \n",
    "3. "
   ]
  },
  {
   "cell_type": "code",
   "execution_count": null,
   "id": "e270b368",
   "metadata": {
    "id": "e270b368"
   },
   "outputs": [],
   "source": []
  }
 ],
 "metadata": {
  "colab": {
   "collapsed_sections": [
    "6a8f98fd",
    "0286bc50",
    "80385e42",
    "6d8e7378",
    "ca5d0b77",
    "828d1593",
    "2c2c0862",
    "f0ff9904",
    "dacf4fce",
    "7bcde69e",
    "39bf8adc",
    "9ab2f4dd",
    "3917d47e"
   ],
   "name": "assignment1_appliedMachine (1).ipynb",
   "provenance": []
  },
  "kernelspec": {
   "display_name": "Python 3",
   "language": "python",
   "name": "python3"
  },
  "language_info": {
   "codemirror_mode": {
    "name": "ipython",
    "version": 3
   },
   "file_extension": ".py",
   "mimetype": "text/x-python",
   "name": "python",
   "nbconvert_exporter": "python",
   "pygments_lexer": "ipython3",
   "version": "3.8.8"
  }
 },
 "nbformat": 4,
 "nbformat_minor": 5
}
